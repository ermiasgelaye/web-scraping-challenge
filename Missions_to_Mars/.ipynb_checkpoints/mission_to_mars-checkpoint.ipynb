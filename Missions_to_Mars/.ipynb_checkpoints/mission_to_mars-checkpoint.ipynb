{
 "cells": [
  {
   "cell_type": "code",
   "execution_count": 380,
   "metadata": {},
   "outputs": [],
   "source": [
    "import numpy as np\n",
    "import pandas as pd\n",
    "from bs4 import BeautifulSoup as bs \n",
    "import requests\n",
    "from splinter import Browser"
   ]
  },
  {
   "cell_type": "code",
   "execution_count": 381,
   "metadata": {},
   "outputs": [],
   "source": [
    "executable_path = {'executable_path': '/usr/local/bin/chromedriver'}\n",
    "browser = Browser('chrome', **executable_path, headless=False)"
   ]
  },
  {
   "cell_type": "markdown",
   "metadata": {},
   "source": [
    "# NASA Mars News"
   ]
  },
  {
   "cell_type": "code",
   "execution_count": 382,
   "metadata": {},
   "outputs": [
    {
     "name": "stdout",
     "output_type": "stream",
     "text": [
      "/usr/local/bin/chromedriver\r\n"
     ]
    }
   ],
   "source": [
    "!which chromedriver"
   ]
  },
  {
   "cell_type": "code",
   "execution_count": 383,
   "metadata": {},
   "outputs": [],
   "source": [
    "url = 'https://mars.nasa.gov/news/'\n",
    "browser.visit(url)"
   ]
  },
  {
   "cell_type": "code",
   "execution_count": 387,
   "metadata": {},
   "outputs": [
    {
     "name": "stdout",
     "output_type": "stream",
     "text": [
      "------------------------------------------------------------------------------------\n",
      "Title:  Mars Now\n",
      "Paragraph: Vast areas of the Martian night sky pulse in ultraviolet light, according to images from NASA’s MAVEN spacecraft. The results are being used to illuminate complex circulation patterns in the Martian atmosphere.\n",
      "Date posted: None\n"
     ]
    }
   ],
   "source": [
    "html = browser.html\n",
    "soup = bs(html, 'html.parser')\n",
    "news_title = soup.find('div', class_='content_title').text\n",
    "news_p = soup.find('div', class_='article_teaser_body').text\n",
    "date = soup.find('div', class_='list_date').tex    \n",
    "print(\"------------------------------------------------------------------------------------\")\n",
    "print(\"Title: \",news_title)\n",
    "print(\"Paragraph:\",news_p)\n",
    "print(\"Date posted:\",date)"
   ]
  },
  {
   "cell_type": "code",
   "execution_count": 388,
   "metadata": {},
   "outputs": [
    {
     "name": "stdout",
     "output_type": "stream",
     "text": [
      "------------------------------------------------------------------------------------\n",
      "Title:  NASA's MAVEN Observes Martian Night Sky Pulsing in Ultraviolet Light\n",
      "Paragraph: Vast areas of the Martian night sky pulse in ultraviolet light, according to images from NASA’s MAVEN spacecraft. The results are being used to illuminate complex circulation patterns in the Martian atmosphere.\n",
      "Date posted: August  6, 2020\n",
      "------------------------------------------------------------------------------------\n",
      "Title:  8 Martian Postcards to Celebrate Curiosity's Landing Anniversary\n",
      "Paragraph: The NASA rover touched down eight years ago, on Aug. 5, 2012, and will soon be joined by a second rover, Perseverance.\n",
      "Date posted: August  3, 2020\n",
      "------------------------------------------------------------------------------------\n",
      "Title:  NASA, ULA Launch Mars 2020 Perseverance Rover Mission to Red Planet\n",
      "Paragraph: The agency's Mars 2020 mission is on its way. It will land at Jezero Crater in about seven months, on Feb. 18, 2021. \n",
      "Date posted: July 30, 2020\n",
      "------------------------------------------------------------------------------------\n",
      "Title:  NASA's Perseverance Rover Will Carry First Spacesuit Materials to Mars\n",
      "Paragraph: In a Q&A, spacesuit designer Amy Ross explains how five samples, including a piece of helmet visor, will be tested aboard the rover, which is targeting a July 30 launch. \n",
      "Date posted: July 28, 2020\n",
      "------------------------------------------------------------------------------------\n",
      "Title:  A New Video Captures the Science of NASA's Perseverance Mars Rover\n",
      "Paragraph: With a targeted launch date of July 30, the next robotic scientist NASA is sending to the to the Red Planet has big ambitions.\n",
      "Date posted: July 27, 2020\n",
      "------------------------------------------------------------------------------------\n",
      "Title:  NASA Invites Public to Share Excitement of Mars 2020 Perseverance Rover Launch\n",
      "Paragraph: There are lots of ways to participate in the historic event, which is targeted for July 30.\n",
      "Date posted: July 23, 2020\n",
      "------------------------------------------------------------------------------------\n",
      "Title:  NASA's Mars Perseverance Rover Passes Flight Readiness Review\n",
      "Paragraph: ​The agency's Mars 2020 mission has one more big prelaunch review – the Launch Readiness Review, on July 27.\n",
      "Date posted: July 22, 2020\n",
      "------------------------------------------------------------------------------------\n",
      "Title:  NASA to Broadcast Mars 2020 Perseverance Launch, Prelaunch Activities\n",
      "Paragraph: Starting July 27, news activities will cover everything from mission engineering and science to returning samples from Mars to, of course, the launch itself.\n",
      "Date posted: July 17, 2020\n",
      "------------------------------------------------------------------------------------\n",
      "Title:  6 Things to Know About NASA's Ingenuity Mars Helicopter\n",
      "Paragraph: The first helicopter attempting to fly on another planet is a marvel of engineering. Get up to speed with these key facts about its plans.\n",
      "Date posted: July 14, 2020\n",
      "------------------------------------------------------------------------------------\n",
      "Title:  Join NASA for the Launch of the Mars 2020 Perseverance Rover\n",
      "Paragraph: No matter where you live, choose from a menu of activities to join NASA as we \"Countdown to Mars\" and launch the Perseverance rover to the Red Planet.\n",
      "Date posted: July 10, 2020\n",
      "------------------------------------------------------------------------------------\n",
      "Title:  NASA's Perseverance Rover Attached to Atlas V Rocket\n",
      "Paragraph: Ready for its launch later in the month, the Mars-bound rover will touch terra firma no more.\n",
      "Date posted: July  9, 2020\n",
      "------------------------------------------------------------------------------------\n",
      "Title:  7 Things to Know About the Mars 2020 Perseverance Rover Mission\n",
      "Paragraph: NASA's next rover to the Red Planet is slated to launch no earlier than July 30. These highlights will get you up to speed on the ambitious mission.\n",
      "Date posted: July  8, 2020\n",
      "------------------------------------------------------------------------------------\n",
      "Title:  NASA's InSight Flexes Its Arm While Its 'Mole' Hits Pause\n",
      "Paragraph: Now that the lander's robotic arm has helped the mole get underground, it will resume science activities that have been on hold.\n",
      "Date posted: July  7, 2020\n",
      "------------------------------------------------------------------------------------\n",
      "Title:  Curiosity Mars Rover's Summer Road Trip Has Begun\n",
      "Paragraph: After more than a year in the \"clay-bearing unit,\" Curiosity is making a mile-long journey around some deep sand so that it can explore higher up Mount Sharp.\n",
      "Date posted: July  6, 2020\n",
      "------------------------------------------------------------------------------------\n",
      "Title:  How NASA's Mars Helicopter Will Reach the Red Planet's Surface\n",
      "Paragraph: The small craft will seek to prove that powered, controlled flight is possible on another planet. But just getting it onto the surface of Mars will take a whole lot of ingenuity.\n",
      "Date posted: June 23, 2020\n",
      "------------------------------------------------------------------------------------\n",
      "Title:  The Launch Is Approaching for NASA's Next Mars Rover, Perseverance\n",
      "Paragraph: The Red Planet's surface has been visited by eight NASA spacecraft. The ninth will be the first that includes a roundtrip ticket in its flight plan. \n",
      "Date posted: June 17, 2020\n",
      "------------------------------------------------------------------------------------\n",
      "Title:  NASA to Hold Mars 2020 Perseverance Rover Launch Briefing\n",
      "Paragraph: Learn more about the agency's next Red Planet mission during a live event on June 17.\n",
      "Date posted: June 15, 2020\n",
      "------------------------------------------------------------------------------------\n",
      "Title:  While Stargazing on Mars, NASA's Curiosity Rover Spots Earth and Venus\n",
      "Paragraph: This new portrait of the Red Planet's neighbors was taken during a time when there's more dust in the air on Mars.\n",
      "Date posted: June 15, 2020\n",
      "------------------------------------------------------------------------------------\n",
      "Title:  NASA's Mars Rover Drivers Need Your Help\n",
      "Paragraph: Using an online tool to label Martian terrain types, you can train an artificial intelligence algorithm that could improve the way engineers guide the Curiosity rover.\n",
      "Date posted: June 12, 2020\n",
      "------------------------------------------------------------------------------------\n",
      "Title:  Three New Views of Mars' Moon Phobos\n",
      "Paragraph: Taken with the infrared camera aboard NASA's Odyssey orbiter, they reveal temperature variations on the small moon as it drifts into and out of Mars’ shadow.\n",
      "Date posted: June  8, 2020\n",
      "------------------------------------------------------------------------------------\n",
      "Title:  The Extraordinary Sample-Gathering System of NASA's Perseverance Mars Rover\n",
      "Paragraph: Two astronauts collected Moon rocks on Apollo 11. It will take three robotic systems working together to gather up the first Mars rock samples for return to Earth.\n",
      "Date posted: June  2, 2020\n",
      "------------------------------------------------------------------------------------\n",
      "Title:  The Detective Aboard NASA's Perseverance Rover\n",
      "Paragraph: An instrument called SHERLOC will, with the help of its partner WATSON, hunt for signs of ancient life by detecting organic molecules and minerals.\n",
      "Date posted: May 26, 2020\n",
      "------------------------------------------------------------------------------------\n",
      "Title:  MAVEN Maps Electric Currents around Mars that are Fundamental to Atmospheric Loss\n",
      "Paragraph: Five years after NASA’s MAVEN spacecraft entered into orbit around Mars, data from the mission has led to the creation of a map of electric current systems in the Martian atmosphere.\n",
      "Date posted: May 25, 2020\n",
      "------------------------------------------------------------------------------------\n",
      "Title:  Air Deliveries Bring NASA's Perseverance Mars Rover Closer to Launch\n",
      "Paragraph: A NASA Wallops Flight Facility cargo plane transported more than two tons of equipment — including the rover's sample collection tubes — to Florida for this summer's liftoff.\n",
      "Date posted: May 21, 2020\n",
      "------------------------------------------------------------------------------------\n",
      "Title:  NASA Wins 4 Webbys, 4 People's Voice Awards\n",
      "Paragraph: Winners include the JPL-managed \"Send Your Name to Mars\" campaign, NASA's Global Climate Change website and Solar System Interactive.\n",
      "Date posted: May 19, 2020\n",
      "------------------------------------------------------------------------------------\n",
      "Title:  NASA's Perseverance Rover Goes Through Trials by Fire, Ice, Light and Sound\n",
      "Paragraph: The agency's new Mars rover is put through a series of tests in vacuum chambers, acoustic chambers and more to get ready for the Red Planet.\n",
      "Date posted: May 18, 2020\n",
      "------------------------------------------------------------------------------------\n",
      "Title:  NASA's Perseverance Rover Mission Getting in Shape for Launch\n",
      "Paragraph: Stacking spacecraft components on top of each other is one of the final assembly steps before a mission launches to the Red Planet. \n",
      "Date posted: May  7, 2020\n",
      "------------------------------------------------------------------------------------\n",
      "Title:  NASA Perseverance Mars Rover Scientists Train in the Nevada Desert\n",
      "Paragraph: Team members searched for signs of ancient microscopic life there, just as NASA's latest rover will on the Red Planet next year.\n",
      "Date posted: May  6, 2020\n",
      "------------------------------------------------------------------------------------\n",
      "Title:  NASA's Perseverance Rover Will Look at Mars Through These 'Eyes'\n",
      "Paragraph: A pair of zoomable cameras will help scientists and rover drivers with high-resolution color images.\n",
      "Date posted: May  1, 2020\n",
      "------------------------------------------------------------------------------------\n",
      "Title:  Meet the People Behind NASA's Perseverance Rover\n",
      "Paragraph: These are the scientists and engineers who built NASA's next Mars rover and who will guide it to a safe landing in Jezero Crater. \n",
      "Date posted: April 30, 2020\n",
      "------------------------------------------------------------------------------------\n",
      "Title:  Q&A with the Student Who Named Ingenuity, NASA's Mars Helicopter\n",
      "Paragraph: As a longtime fan of space exploration, Vaneeza Rupani appreciates the creativity and collaboration involved with trying to fly on another planet.\n",
      "Date posted: April 29, 2020\n",
      "------------------------------------------------------------------------------------\n",
      "Title:  Alabama High School Student Names NASA's Mars Helicopter\n",
      "Paragraph: Vaneeza Rupani's essay was chosen as the name for the small spacecraft, which will mark NASA's first attempt at powered flight on another planet.\n",
      "Date posted: April 29, 2020\n",
      "------------------------------------------------------------------------------------\n",
      "Title:  How NASA's Perseverance Mars Team Adjusted to Work in the Time of Coronavirus \n",
      "Paragraph: Like much of the rest of the world, the Mars rover team is pushing forward with its mission-critical work while putting the health and safety of their colleagues and community first.\n",
      "Date posted: April 21, 2020\n",
      "------------------------------------------------------------------------------------\n",
      "Title:  NASA's Perseverance Mars Rover Gets Balanced\n",
      "Paragraph: The mission team performed a crucial weight-balancing test on the rover in preparation for this summer's history-making launch to the Red Planet.\n",
      "Date posted: April 20, 2020\n",
      "------------------------------------------------------------------------------------\n",
      "Title:  NASA's Curiosity Keeps Rolling As Team Operates Rover From Home\n",
      "Paragraph: The team has learned to meet new challenges as they work remotely on the Mars mission.\n",
      "Date posted: April 13, 2020\n",
      "------------------------------------------------------------------------------------\n",
      "Title:  Mars Helicopter Attached to NASA's Perseverance Rover\n",
      "Paragraph: The team also fueled the rover's sky crane to get ready for this summer's history-making launch.\n",
      "Date posted: April 10, 2020\n",
      "------------------------------------------------------------------------------------\n",
      "Title:  NASA's Perseverance Mars Rover Gets Its Wheels and Air Brakes\n",
      "Paragraph: After the rover was shipped from JPL to Kennedy Space Center, the team is getting closer to finalizing the spacecraft for launch later this summer.\n",
      "Date posted: April  3, 2020\n",
      "------------------------------------------------------------------------------------\n",
      "Title:  The Man Who Wanted to Fly on Mars\n",
      "Paragraph: The Mars Helicopter is riding to the Red Planet this summer with NASA's Perseverance rover. The helicopter's chief engineer, Bob Balaram, shares the saga of how it came into being.\n",
      "Date posted: April  1, 2020\n",
      "------------------------------------------------------------------------------------\n",
      "Title:  10.9 Million Names Now Aboard NASA's Perseverance Mars Rover\n",
      "Paragraph: As part of NASA's 'Send Your Name to Mars' campaign, they've been stenciled onto three microchips along with essays from NASA's 'Name the Rover' contest. Next stop: Mars.\n",
      "Date posted: March 26, 2020\n",
      "------------------------------------------------------------------------------------\n",
      "Title:  NASA's Curiosity Mars Rover Takes a New Selfie Before Record Climb\n",
      "Paragraph: Along with capturing an image before its steepest ascent ever, the robotic explorer filmed its \"selfie stick,\" or robotic arm, in action.\n",
      "Date posted: March 20, 2020\n"
     ]
    }
   ],
   "source": [
    "# Retrieve the parent divs for all latest news\n",
    "results = soup.find_all('div', class_='list_text')\n",
    "\n",
    "# loop over results to get list\n",
    "for result in results:\n",
    "    # scrape the news title\n",
    "    news_title = result.find('div', class_='content_title').text\n",
    "    \n",
    "    # scrape the news  paragraph\n",
    "    news_p = result.find('div', class_='article_teaser_body').text\n",
    "    \n",
    "    # scrape article posted date \n",
    "    date = result.find('div', class_='list_date').text\n",
    "    \n",
    "\n",
    "    # print article data\n",
    "    print(\"------------------------------------------------------------------------------------\")\n",
    "    print(\"Title: \",news_title)\n",
    "    print(\"Paragraph:\",news_p)\n",
    "    print(\"Date posted:\",date)\n",
    "    \n",
    "    \n",
    "    # Dictionary to be inserted into MongoDB\n",
    "    post = {\n",
    "    'title': news_title,\n",
    "    'paragraph': news_p,\n",
    "    'date': date\n",
    "    }\n",
    "\n",
    "    # Insert dictionary into MongoDB as a document\n",
    "    collection.insert_one(post)"
   ]
  },
  {
   "cell_type": "markdown",
   "metadata": {},
   "source": [
    "# JPL Mars Space Images - Featured Image"
   ]
  },
  {
   "cell_type": "code",
   "execution_count": 389,
   "metadata": {},
   "outputs": [
    {
     "name": "stdout",
     "output_type": "stream",
     "text": [
      "https://www.jpl.nasa.gov/spaceimages/images/mediumsize/PIA01320_ip.jpg\n"
     ]
    }
   ],
   "source": [
    "url = 'https://www.jpl.nasa.gov/spaceimages/'\n",
    "browser.visit(url)\n",
    "url = 'https://www.jpl.nasa.gov/spaceimages/'\n",
    "browser.visit(url)\n",
    "html = browser.html\n",
    "soup = bs(html, 'html.parser')\n",
    "base_url = 'https://www.jpl.nasa.gov'\n",
    "image_url = soup.find(\"a\", class_ = \"button fancybox\")[\"data-fancybox-href\"]\n",
    "featured_image_url = base_url + image_url\n",
    "print(featured_image_url)"
   ]
  },
  {
   "cell_type": "markdown",
   "metadata": {},
   "source": [
    "# Mars Weather"
   ]
  },
  {
   "cell_type": "code",
   "execution_count": 392,
   "metadata": {},
   "outputs": [],
   "source": [
    "url = ('https://twitter.com/marswxreport?lang=en')\n",
    "browser.visit(mars_weather_url)\n",
    "time.sleep(3)\n",
    "\n",
    "weather_html = browser.html\n",
    "weather_soup = bs(weather_html, \"html.parser\")\n",
    "# print(weather_soup.prettify())\n",
    "\n",
    "mars_tweets = [weather_soup.find_all('p', class_=\"TweetTextSize\"), weather_soup.find_all('span', class_=\"css-901oao css-16my406 r-1qd0xha r-ad9z0x r-bcqeeo r-qvutc0\")]"
   ]
  },
  {
   "cell_type": "code",
   "execution_count": 393,
   "metadata": {},
   "outputs": [],
   "source": [
    "for tweets in mars_tweets:\n",
    "    mars_tweet = tweets"
   ]
  },
  {
   "cell_type": "code",
   "execution_count": 394,
   "metadata": {},
   "outputs": [
    {
     "name": "stdout",
     "output_type": "stream",
     "text": [
      "InSight sol 603 (2020-08-07) low -91.3ºC (-132.4ºF) high -12.2ºC (10.0ºF)\n",
      "winds from the W at 6.6 m/s (14.8 mph) gusting to 17.2 m/s (38.4 mph)\n",
      "pressure at 7.90 hPa\n"
     ]
    }
   ],
   "source": [
    "for tweet in mars_tweet:\n",
    "    if 'InSight' in tweet.text:\n",
    "        mars_weather = tweet.text\n",
    "        if tweet.a in tweet:\n",
    "            mars_weather = mars_weather.strip(tweet.a.text)\n",
    "        break\n",
    "print(mars_weather)"
   ]
  },
  {
   "cell_type": "markdown",
   "metadata": {},
   "source": [
    "# Mars Facts"
   ]
  },
  {
   "cell_type": "code",
   "execution_count": 397,
   "metadata": {},
   "outputs": [],
   "source": [
    "url = 'https://space-facts.com/mars/'\n",
    "browser.visit(url)"
   ]
  },
  {
   "cell_type": "code",
   "execution_count": 398,
   "metadata": {},
   "outputs": [
    {
     "data": {
      "text/plain": [
       "[                      0                              1\n",
       " 0  Equatorial Diameter:                       6,792 km\n",
       " 1       Polar Diameter:                       6,752 km\n",
       " 2                 Mass:  6.39 × 10^23 kg (0.11 Earths)\n",
       " 3                Moons:            2 (Phobos & Deimos)\n",
       " 4       Orbit Distance:       227,943,824 km (1.38 AU)\n",
       " 5         Orbit Period:           687 days (1.9 years)\n",
       " 6  Surface Temperature:                   -87 to -5 °C\n",
       " 7         First Record:              2nd millennium BC\n",
       " 8          Recorded By:           Egyptian astronomers,\n",
       "   Mars - Earth Comparison             Mars            Earth\n",
       " 0               Diameter:         6,779 km        12,742 km\n",
       " 1                   Mass:  6.39 × 10^23 kg  5.97 × 10^24 kg\n",
       " 2                  Moons:                2                1\n",
       " 3      Distance from Sun:   227,943,824 km   149,598,262 km\n",
       " 4         Length of Year:   687 Earth days      365.24 days\n",
       " 5            Temperature:    -153 to 20 °C      -88 to 58°C,\n",
       "                       0                              1\n",
       " 0  Equatorial Diameter:                       6,792 km\n",
       " 1       Polar Diameter:                       6,752 km\n",
       " 2                 Mass:  6.39 × 10^23 kg (0.11 Earths)\n",
       " 3                Moons:            2 (Phobos & Deimos)\n",
       " 4       Orbit Distance:       227,943,824 km (1.38 AU)\n",
       " 5         Orbit Period:           687 days (1.9 years)\n",
       " 6  Surface Temperature:                   -87 to -5 °C\n",
       " 7         First Record:              2nd millennium BC\n",
       " 8          Recorded By:           Egyptian astronomers]"
      ]
     },
     "execution_count": 398,
     "metadata": {},
     "output_type": "execute_result"
    }
   ],
   "source": [
    "html = browser.html\n",
    "soup = bs(html, 'html.parser')\n",
    "tables = pd.read_html(url)\n",
    "tables"
   ]
  },
  {
   "cell_type": "code",
   "execution_count": 399,
   "metadata": {},
   "outputs": [
    {
     "data": {
      "text/html": [
       "<div>\n",
       "<style scoped>\n",
       "    .dataframe tbody tr th:only-of-type {\n",
       "        vertical-align: middle;\n",
       "    }\n",
       "\n",
       "    .dataframe tbody tr th {\n",
       "        vertical-align: top;\n",
       "    }\n",
       "\n",
       "    .dataframe thead th {\n",
       "        text-align: right;\n",
       "    }\n",
       "</style>\n",
       "<table border=\"1\" class=\"dataframe\">\n",
       "  <thead>\n",
       "    <tr style=\"text-align: right;\">\n",
       "      <th></th>\n",
       "      <th>Fact</th>\n",
       "      <th>Value</th>\n",
       "    </tr>\n",
       "  </thead>\n",
       "  <tbody>\n",
       "    <tr>\n",
       "      <th>0</th>\n",
       "      <td>Equatorial Diameter</td>\n",
       "      <td>6,792 km</td>\n",
       "    </tr>\n",
       "    <tr>\n",
       "      <th>1</th>\n",
       "      <td>Polar Diameter</td>\n",
       "      <td>6,752 km</td>\n",
       "    </tr>\n",
       "    <tr>\n",
       "      <th>2</th>\n",
       "      <td>Mass</td>\n",
       "      <td>6.39 × 10^23 kg (0.11 Earths)</td>\n",
       "    </tr>\n",
       "    <tr>\n",
       "      <th>3</th>\n",
       "      <td>Moons</td>\n",
       "      <td>2 (Phobos &amp; Deimos)</td>\n",
       "    </tr>\n",
       "    <tr>\n",
       "      <th>4</th>\n",
       "      <td>Orbit Distance</td>\n",
       "      <td>227,943,824 km (1.38 AU)</td>\n",
       "    </tr>\n",
       "    <tr>\n",
       "      <th>5</th>\n",
       "      <td>Orbit Period</td>\n",
       "      <td>687 days (1.9 years)</td>\n",
       "    </tr>\n",
       "    <tr>\n",
       "      <th>6</th>\n",
       "      <td>Surface Temperature</td>\n",
       "      <td>-87 to -5 °C</td>\n",
       "    </tr>\n",
       "    <tr>\n",
       "      <th>7</th>\n",
       "      <td>First Record</td>\n",
       "      <td>2nd millennium BC</td>\n",
       "    </tr>\n",
       "    <tr>\n",
       "      <th>8</th>\n",
       "      <td>Recorded By</td>\n",
       "      <td>Egyptian astronomers</td>\n",
       "    </tr>\n",
       "  </tbody>\n",
       "</table>\n",
       "</div>"
      ],
      "text/plain": [
       "                  Fact                          Value\n",
       "0  Equatorial Diameter                       6,792 km\n",
       "1       Polar Diameter                       6,752 km\n",
       "2                 Mass  6.39 × 10^23 kg (0.11 Earths)\n",
       "3                Moons            2 (Phobos & Deimos)\n",
       "4       Orbit Distance       227,943,824 km (1.38 AU)\n",
       "5         Orbit Period           687 days (1.9 years)\n",
       "6  Surface Temperature                   -87 to -5 °C\n",
       "7         First Record              2nd millennium BC\n",
       "8          Recorded By           Egyptian astronomers"
      ]
     },
     "execution_count": 399,
     "metadata": {},
     "output_type": "execute_result"
    }
   ],
   "source": [
    "facts_df = tables[0]\n",
    "facts_df.columns = ['Fact', 'Value']\n",
    "facts_df['Fact'] = facts_df['Fact'].str.replace(':', '')\n",
    "facts_df"
   ]
  },
  {
   "cell_type": "code",
   "execution_count": 400,
   "metadata": {},
   "outputs": [
    {
     "name": "stdout",
     "output_type": "stream",
     "text": [
      "<table border=\"1\" class=\"dataframe\">\n",
      "  <thead>\n",
      "    <tr style=\"text-align: right;\">\n",
      "      <th></th>\n",
      "      <th>Fact</th>\n",
      "      <th>Value</th>\n",
      "    </tr>\n",
      "  </thead>\n",
      "  <tbody>\n",
      "    <tr>\n",
      "      <th>0</th>\n",
      "      <td>Equatorial Diameter</td>\n",
      "      <td>6,792 km</td>\n",
      "    </tr>\n",
      "    <tr>\n",
      "      <th>1</th>\n",
      "      <td>Polar Diameter</td>\n",
      "      <td>6,752 km</td>\n",
      "    </tr>\n",
      "    <tr>\n",
      "      <th>2</th>\n",
      "      <td>Mass</td>\n",
      "      <td>6.39 × 10^23 kg (0.11 Earths)</td>\n",
      "    </tr>\n",
      "    <tr>\n",
      "      <th>3</th>\n",
      "      <td>Moons</td>\n",
      "      <td>2 (Phobos &amp; Deimos)</td>\n",
      "    </tr>\n",
      "    <tr>\n",
      "      <th>4</th>\n",
      "      <td>Orbit Distance</td>\n",
      "      <td>227,943,824 km (1.38 AU)</td>\n",
      "    </tr>\n",
      "    <tr>\n",
      "      <th>5</th>\n",
      "      <td>Orbit Period</td>\n",
      "      <td>687 days (1.9 years)</td>\n",
      "    </tr>\n",
      "    <tr>\n",
      "      <th>6</th>\n",
      "      <td>Surface Temperature</td>\n",
      "      <td>-87 to -5 °C</td>\n",
      "    </tr>\n",
      "    <tr>\n",
      "      <th>7</th>\n",
      "      <td>First Record</td>\n",
      "      <td>2nd millennium BC</td>\n",
      "    </tr>\n",
      "    <tr>\n",
      "      <th>8</th>\n",
      "      <td>Recorded By</td>\n",
      "      <td>Egyptian astronomers</td>\n",
      "    </tr>\n",
      "  </tbody>\n",
      "</table>\n"
     ]
    }
   ],
   "source": [
    "facts_df = tables[0]\n",
    "facts_df.columns = ['Fact', 'Value']\n",
    "facts_df['Fact'] = facts_df['Fact'].str.replace(':', '')\n",
    "facts_df\n",
    "facts_html = facts_df.to_html()\n",
    "\n",
    "print(facts_html)"
   ]
  },
  {
   "cell_type": "markdown",
   "metadata": {},
   "source": [
    "#  Mars Hemispheres"
   ]
  },
  {
   "cell_type": "code",
   "execution_count": 401,
   "metadata": {},
   "outputs": [],
   "source": [
    "url = 'https://astrogeology.usgs.gov/search/results?q=hemisphere+enhanced&k1=target&v1=Mars'\n",
    "browser.visit(url)"
   ]
  },
  {
   "cell_type": "code",
   "execution_count": 402,
   "metadata": {},
   "outputs": [
    {
     "data": {
      "text/plain": [
       "['https://astrogeology.usgs.gov//search/map/Mars/Viking/cerberus_enhanced',\n",
       " 'https://astrogeology.usgs.gov//search/map/Mars/Viking/schiaparelli_enhanced',\n",
       " 'https://astrogeology.usgs.gov//search/map/Mars/Viking/syrtis_major_enhanced',\n",
       " 'https://astrogeology.usgs.gov//search/map/Mars/Viking/valles_marineris_enhanced']"
      ]
     },
     "execution_count": 402,
     "metadata": {},
     "output_type": "execute_result"
    }
   ],
   "source": [
    "html = browser.html\n",
    "soup = bs(html, 'html.parser')\n",
    "results = soup.find_all('div', class_=\"description\")\n",
    "base_url = 'https://astrogeology.usgs.gov/'\n",
    "sites = []\n",
    "for result in results:\n",
    "    link = result.find('a', class_ = \"itemLink product-item\")\n",
    "    link_text = link['href']\n",
    "    full_url = base_url + link_text\n",
    "    sites.append(full_url)\n",
    "sites"
   ]
  },
  {
   "cell_type": "code",
   "execution_count": 403,
   "metadata": {},
   "outputs": [
    {
     "data": {
      "text/plain": [
       "[{'title': 'Cerberus Hemisphere Enhanced',\n",
       "  'img_url': 'https://www.usgs.gov/centers/astrogeo-sc'},\n",
       " {'title': 'Schiaparelli Hemisphere Enhanced',\n",
       "  'img_url': 'https://www.usgs.gov/centers/astrogeo-sc'},\n",
       " {'title': 'Syrtis Major Hemisphere Enhanced',\n",
       "  'img_url': 'https://www.usgs.gov/centers/astrogeo-sc'},\n",
       " {'title': 'Valles Marineris Hemisphere Enhanced',\n",
       "  'img_url': 'https://www.usgs.gov/centers/astrogeo-sc'}]"
      ]
     },
     "execution_count": 403,
     "metadata": {},
     "output_type": "execute_result"
    }
   ],
   "source": [
    "hemispheres = []\n",
    "for site in sites:\n",
    "    browser.visit(site)\n",
    "    html = browser.html\n",
    "    soup = bs(html, 'html.parser')\n",
    "    title = soup.find('h2', class_ = \"title\").text.strip()\n",
    "    url = soup.find_all('a', target = \"_blank\", href = True)[0]['href']\n",
    "    hemispheres.append({\"title\": title, \"img_url\": url})\n",
    "hemispheres"
   ]
  },
  {
   "cell_type": "code",
   "execution_count": null,
   "metadata": {},
   "outputs": [],
   "source": []
  },
  {
   "cell_type": "code",
   "execution_count": null,
   "metadata": {},
   "outputs": [],
   "source": []
  },
  {
   "cell_type": "code",
   "execution_count": null,
   "metadata": {},
   "outputs": [],
   "source": []
  }
 ],
 "metadata": {
  "kernelspec": {
   "display_name": "Python 3",
   "language": "python",
   "name": "python3"
  },
  "language_info": {
   "codemirror_mode": {
    "name": "ipython",
    "version": 3
   },
   "file_extension": ".py",
   "mimetype": "text/x-python",
   "name": "python",
   "nbconvert_exporter": "python",
   "pygments_lexer": "ipython3",
   "version": "3.7.6"
  }
 },
 "nbformat": 4,
 "nbformat_minor": 4
}
